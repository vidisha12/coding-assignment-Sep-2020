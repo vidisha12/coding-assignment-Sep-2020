{
  "nbformat": 4,
  "nbformat_minor": 0,
  "metadata": {
    "colab": {
      "name": "Untitled0.ipynb",
      "provenance": [],
      "authorship_tag": "ABX9TyNfQrCvMFXyVUhINY/p3BfT",
      "include_colab_link": true
    },
    "kernelspec": {
      "name": "python3",
      "display_name": "Python 3"
    },
    "language_info": {
      "name": "python"
    }
  },
  "cells": [
    {
      "cell_type": "markdown",
      "metadata": {
        "id": "view-in-github",
        "colab_type": "text"
      },
      "source": [
        "<a href=\"https://colab.research.google.com/github/vidisha12/coding-assignment-Sep-2020/blob/master/Untitled0.ipynb\" target=\"_parent\"><img src=\"https://colab.research.google.com/assets/colab-badge.svg\" alt=\"Open In Colab\"/></a>"
      ]
    },
    {
      "cell_type": "code",
      "metadata": {
        "id": "EZPymtS_nuOR"
      },
      "source": [
        "import random\n",
        "N=int(input())\n",
        "Goodies = dict(input().split() for _ in range(N))\n",
        "M=int(input())\n",
        "goodies_distribution=random.choices(list(Goodies.items()), k=M)\n",
        "print(goodies_distribution)\n",
        "sub=max(Goodies.values())-min(Goodies.values())\n",
        "print(sub)"
      ],
      "execution_count": null,
      "outputs": []
    }
  ]
}